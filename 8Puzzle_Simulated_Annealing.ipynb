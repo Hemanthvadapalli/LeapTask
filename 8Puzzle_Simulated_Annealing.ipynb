{
  "nbformat": 4,
  "nbformat_minor": 0,
  "metadata": {
    "colab": {
      "provenance": [],
      "authorship_tag": "ABX9TyP8Dnp0mFCmGm5DzpCTtw/J",
      "include_colab_link": true
    },
    "kernelspec": {
      "name": "python3",
      "display_name": "Python 3"
    },
    "language_info": {
      "name": "python"
    }
  },
  "cells": [
    {
      "cell_type": "markdown",
      "metadata": {
        "id": "view-in-github",
        "colab_type": "text"
      },
      "source": [
        "<a href=\"https://colab.research.google.com/github/Hemanthvadapalli/LeapTask/blob/main/8Puzzle_Simulated_Annealing.ipynb\" target=\"_parent\"><img src=\"https://colab.research.google.com/assets/colab-badge.svg\" alt=\"Open In Colab\"/></a>"
      ]
    },
    {
      "cell_type": "code",
      "execution_count": null,
      "metadata": {
        "id": "a6UGUC9UwhjC"
      },
      "outputs": [],
      "source": [
        "import random\n",
        "import math\n",
        "\n",
        "# Goal state\n",
        "goal_state = [\n",
        "    [1, 2, 3],\n",
        "    [4, 5, 6],\n",
        "    [7, 8, 0]\n",
        "]\n"
      ]
    },
    {
      "cell_type": "code",
      "source": [
        "# Function to calculate the Manhattan distance heuristic\n",
        "def manhattan_distance(state):\n",
        "    distance = 0\n",
        "    for i in range(3):\n",
        "        for j in range(3):\n",
        "            if state[i][j] != 0:\n",
        "                x, y = divmod(state[i][j] - 1, 3)\n",
        "                distance += abs(x - i) + abs(y - j)\n",
        "    return distance"
      ],
      "metadata": {
        "id": "KgEILWCbxIxV"
      },
      "execution_count": null,
      "outputs": []
    },
    {
      "cell_type": "code",
      "source": [
        "def get_neighbors_with_moves(state):\n",
        "    neighbors = []\n",
        "    x, y = [(i, j) for i in range(3) for j in range(3) if state[i][j] == 0][0]  # Position of the blank (0)\n",
        "\n",
        "    moves = [\n",
        "        (x-1, y, 'Up'),     # up\n",
        "        (x+1, y, 'Down'),   # down\n",
        "        (x, y-1, 'Left'),   # left\n",
        "        (x, y+1, 'Right')   # right\n",
        "    ]\n",
        "\n",
        "    for i, j, move in moves:\n",
        "        if 0 <= i < 3 and 0 <= j < 3:\n",
        "            neighbor = [row[:] for row in state]\n",
        "            neighbor[x][y], neighbor[i][j] = neighbor[i][j], neighbor[x][y]  # Swap blank with neighbor\n",
        "            neighbors.append((neighbor, move))\n",
        "    return neighbors"
      ],
      "metadata": {
        "id": "-noXEfBxxI-9"
      },
      "execution_count": null,
      "outputs": []
    },
    {
      "cell_type": "code",
      "source": [
        "# Function to find the possible moves (up, down, left, right) and return the new state and the move made\n",
        "def get_neighbors_with_moves(state):\n",
        "    neighbors = []\n",
        "    x, y = [(i, j) for i in range(3) for j in range(3) if state[i][j] == 0][0]  # Position of the blank (0)\n",
        "\n",
        "    moves = [\n",
        "        (x-1, y, 'Up'),     # up\n",
        "        (x+1, y, 'Down'),   # down\n",
        "        (x, y-1, 'Left'),   # left\n",
        "        (x, y+1, 'Right')   # right\n",
        "    ]\n",
        "\n",
        "    for i, j, move in moves:\n",
        "        if 0 <= i < 3 and 0 <= j < 3:\n",
        "            neighbor = [row[:] for row in state]\n",
        "            neighbor[x][y], neighbor[i][j] = neighbor[i][j], neighbor[x][y]  # Swap blank with neighbor\n",
        "            neighbors.append((neighbor, move))\n",
        "    return neighbors\n",
        "\n",
        "# Simulated Annealing algorithm with moves tracking\n",
        "def simulated_annealing_with_moves(initial_state, initial_temp=1000, cooling_rate=0.99, min_temp=0.01):\n",
        "    current_state = initial_state\n",
        "    current_temp = initial_temp\n",
        "    moves_made = []\n",
        "\n",
        "    while current_temp > min_temp:\n",
        "        current_heuristic = manhattan_distance(current_state)\n",
        "        if current_heuristic == 0:\n",
        "            return current_state, moves_made  # Reached goal state\n",
        "\n",
        "        # Get all neighbors of the current state and the associated move\n",
        "        neighbors = get_neighbors_with_moves(current_state)\n",
        "        next_state, move = random.choice(neighbors)\n",
        "        next_heuristic = manhattan_distance(next_state)\n",
        "\n",
        "        # Calculate acceptance probability\n",
        "        delta_heuristic = next_heuristic - current_heuristic\n",
        "        acceptance_probability = math.exp(-delta_heuristic / current_temp) if delta_heuristic > 0 else 1\n",
        "\n",
        "        # Accept the next state with a certain probability\n",
        "        if acceptance_probability > random.random():\n",
        "            current_state = next_state\n",
        "            moves_made.append(move)\n",
        "\n",
        "        # Cool down the temperature\n",
        "        current_temp *= cooling_rate\n",
        "\n",
        "    return current_state, moves_made\n"
      ],
      "metadata": {
        "id": "k13S9gzSxRUr"
      },
      "execution_count": null,
      "outputs": []
    },
    {
      "cell_type": "code",
      "source": [
        "# Helper function to print the puzzle state\n",
        "def print_puzzle(state):\n",
        "    for row in state:\n",
        "        print(row)\n",
        "    print()\n"
      ],
      "metadata": {
        "id": "w1OtNL7LxJCU"
      },
      "execution_count": null,
      "outputs": []
    },
    {
      "cell_type": "code",
      "source": [
        "# Example initial state\n",
        "initial_state = [\n",
        "    [1, 2, 3],\n",
        "    [4, 5, 0],\n",
        "    [7, 8, 6]\n",
        "]"
      ],
      "metadata": {
        "id": "NLF9BHJJxklu"
      },
      "execution_count": null,
      "outputs": []
    },
    {
      "cell_type": "code",
      "source": [
        "print(\"Initial State:\")\n",
        "print_puzzle(initial_state)\n",
        "\n",
        "result_state, moves = simulated_annealing_with_moves(initial_state)"
      ],
      "metadata": {
        "colab": {
          "base_uri": "https://localhost:8080/"
        },
        "id": "U5T76tDrxpZV",
        "outputId": "454a60e1-6185-4b57-a5b6-d177b2fa2384"
      },
      "execution_count": null,
      "outputs": [
        {
          "output_type": "stream",
          "name": "stdout",
          "text": [
            "Initial State:\n",
            "[1, 2, 3]\n",
            "[4, 5, 0]\n",
            "[7, 8, 6]\n",
            "\n"
          ]
        }
      ]
    },
    {
      "cell_type": "code",
      "source": [
        "print(\"Final State (after Simulated Annealing):\")\n",
        "print_puzzle(result_state)"
      ],
      "metadata": {
        "colab": {
          "base_uri": "https://localhost:8080/"
        },
        "id": "ApURKH-AxtOp",
        "outputId": "c2a4ad65-f6c8-4ec1-9e2d-556865b13ae0"
      },
      "execution_count": null,
      "outputs": [
        {
          "output_type": "stream",
          "name": "stdout",
          "text": [
            "Final State (after Simulated Annealing):\n",
            "[1, 2, 3]\n",
            "[4, 5, 6]\n",
            "[7, 8, 0]\n",
            "\n"
          ]
        }
      ]
    },
    {
      "cell_type": "code",
      "source": [
        "print(\"Moves made to reach the solution:\")\n",
        "print(moves)\n"
      ],
      "metadata": {
        "colab": {
          "base_uri": "https://localhost:8080/"
        },
        "id": "4x68r_hMx0hx",
        "outputId": "3771f118-5230-414a-8d89-bddfa8d84683"
      },
      "execution_count": null,
      "outputs": [
        {
          "output_type": "stream",
          "name": "stdout",
          "text": [
            "Moves made to reach the solution:\n",
            "['Left', 'Right', 'Down']\n"
          ]
        }
      ]
    },
    {
      "cell_type": "code",
      "source": [
        "#Finding the number of steps\n",
        "print(len(moves))"
      ],
      "metadata": {
        "colab": {
          "base_uri": "https://localhost:8080/"
        },
        "id": "dRs8m08t0TVr",
        "outputId": "117fa763-c88c-42a7-db32-09f74c040181"
      },
      "execution_count": 11,
      "outputs": [
        {
          "output_type": "stream",
          "name": "stdout",
          "text": [
            "3\n"
          ]
        }
      ]
    },
    {
      "cell_type": "code",
      "source": [],
      "metadata": {
        "id": "M0G4KZQZ0YqO"
      },
      "execution_count": null,
      "outputs": []
    }
  ]
}