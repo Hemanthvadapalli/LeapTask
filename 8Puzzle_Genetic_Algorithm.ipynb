{
  "nbformat": 4,
  "nbformat_minor": 0,
  "metadata": {
    "colab": {
      "provenance": [],
      "authorship_tag": "ABX9TyOYl63B1DReNvnPPfOJr+FC",
      "include_colab_link": true
    },
    "kernelspec": {
      "name": "python3",
      "display_name": "Python 3"
    },
    "language_info": {
      "name": "python"
    }
  },
  "cells": [
    {
      "cell_type": "markdown",
      "metadata": {
        "id": "view-in-github",
        "colab_type": "text"
      },
      "source": [
        "<a href=\"https://colab.research.google.com/github/Hemanthvadapalli/LeapTask/blob/main/8Puzzle_Genetic_Algorithm.ipynb\" target=\"_parent\"><img src=\"https://colab.research.google.com/assets/colab-badge.svg\" alt=\"Open In Colab\"/></a>"
      ]
    },
    {
      "cell_type": "code",
      "execution_count": null,
      "metadata": {
        "id": "TKtbZyrFyRIo"
      },
      "outputs": [],
      "source": [
        "import random\n",
        "\n",
        "# Goal state of the 8-puzzle problem\n",
        "goal_state = [\n",
        "    [1, 2, 3],\n",
        "    [4, 5, 6],\n",
        "    [7, 8, 0]\n",
        "]"
      ]
    },
    {
      "cell_type": "code",
      "source": [
        "# Function to flatten the 2D puzzle board into a 1D list\n",
        "def flatten(state):\n",
        "    return [tile for row in state for tile in row]\n",
        "\n",
        "# Function to calculate fitness score based on the number of misplaced tiles\n",
        "def fitness(state):\n",
        "    flat_state = flatten(state)\n",
        "    flat_goal = flatten(goal_state)\n",
        "    return sum([1 if flat_state[i] != flat_goal[i] else 0 for i in range(9)])"
      ],
      "metadata": {
        "id": "TYfOeAj9ybp-"
      },
      "execution_count": null,
      "outputs": []
    },
    {
      "cell_type": "code",
      "source": [
        "# Function to find the blank tile's (0) position\n",
        "def find_blank(state):\n",
        "    for i in range(3):\n",
        "        for j in range(3):\n",
        "            if state[i][j] == 0:\n",
        "                return i, j"
      ],
      "metadata": {
        "id": "ERGT87rVysGS"
      },
      "execution_count": null,
      "outputs": []
    },
    {
      "cell_type": "code",
      "source": [
        "# Function to generate neighbors by moving the blank tile in possible directions\n",
        "def get_neighbors(state):\n",
        "    x, y = find_blank(state)\n",
        "    neighbors = []\n",
        "    moves = []\n",
        "\n",
        "    # Possible moves: Up, Down, Left, Right\n",
        "    move_list = [(-1, 0, 'Up'), (1, 0, 'Down'), (0, -1, 'Left'), (0, 1, 'Right')]\n",
        "\n",
        "    for dx, dy, move in move_list:\n",
        "        new_x, new_y = x + dx, y + dy\n",
        "        if 0 <= new_x < 3 and 0 <= new_y < 3:\n",
        "            neighbor = [row[:] for row in state]  # Copy the state\n",
        "            # Swap the blank tile with the adjacent tile\n",
        "            neighbor[x][y], neighbor[new_x][new_y] = neighbor[new_x][new_y], neighbor[x][y]\n",
        "            neighbors.append(neighbor)\n",
        "            moves.append(move)\n",
        "\n",
        "    return neighbors, moves"
      ],
      "metadata": {
        "id": "Lw72ZMCKyyLp"
      },
      "execution_count": null,
      "outputs": []
    },
    {
      "cell_type": "code",
      "source": [
        "# Function to generate random initial states for the population\n",
        "def generate_initial_population(initial_state, size):\n",
        "    population = [initial_state]\n",
        "    for _ in range(size - 1):\n",
        "        individual = random.sample(range(9), 9)\n",
        "        population.append([individual[:3], individual[3:6], individual[6:]])\n",
        "    return population\n"
      ],
      "metadata": {
        "id": "8ruajiz_y173"
      },
      "execution_count": null,
      "outputs": []
    },
    {
      "cell_type": "code",
      "source": [
        "# Function to select two parents for crossover based on their fitness\n",
        "def select_parents(population):\n",
        "    fitness_scores = [(individual, fitness(individual)) for individual in population]\n",
        "    fitness_scores.sort(key=lambda x: x[1])\n",
        "    return fitness_scores[0][0], fitness_scores[1][0]"
      ],
      "metadata": {
        "id": "-wPTdCpgy3Eo"
      },
      "execution_count": null,
      "outputs": []
    },
    {
      "cell_type": "code",
      "source": [
        "# Function to perform crossover between two parents and generate offspring\n",
        "def crossover(parent1, parent2):\n",
        "    flat_parent1 = flatten(parent1)\n",
        "    flat_parent2 = flatten(parent2)\n",
        "\n",
        "    # Perform single-point crossover\n",
        "    crossover_point = random.randint(0, 8)\n",
        "\n",
        "    child1 = flat_parent1[:crossover_point] + flat_parent2[crossover_point:]\n",
        "    child2 = flat_parent2[:crossover_point] + flat_parent1[crossover_point:]\n",
        "\n",
        "    # Ensure that children are valid puzzle states\n",
        "    child1 = make_valid_state(child1)\n",
        "    child2 = make_valid_state(child2)\n",
        "\n",
        "    return [child1[:3], child1[3:6], child1[6:]], [child2[:3], child2[3:6], child2[6:]]"
      ],
      "metadata": {
        "id": "ZD9bZs87zP1I"
      },
      "execution_count": null,
      "outputs": []
    },
    {
      "cell_type": "code",
      "source": [
        "# Function to make sure the crossover result is a valid state\n",
        "def make_valid_state(flat_child):\n",
        "    missing = set(range(9)) - set(flat_child)\n",
        "    for i in range(len(flat_child)):\n",
        "        if flat_child.count(flat_child[i]) > 1:\n",
        "            flat_child[i] = missing.pop()\n",
        "    return flat_child"
      ],
      "metadata": {
        "id": "OfTlh8JxzQQn"
      },
      "execution_count": null,
      "outputs": []
    },
    {
      "cell_type": "code",
      "source": [
        "# Function to mutate a child by swapping two random tiles\n",
        "def mutate(child, mutation_rate=0.1):\n",
        "    if random.random() < mutation_rate:\n",
        "        flat_child = flatten(child)\n",
        "        idx1, idx2 = random.sample(range(9), 2)\n",
        "        flat_child[idx1], flat_child[idx2] = flat_child[idx2], flat_child[idx1]\n",
        "        return [flat_child[:3], flat_child[3:6], flat_child[6:]]\n",
        "    return child"
      ],
      "metadata": {
        "id": "pw4H-aBvzctq"
      },
      "execution_count": null,
      "outputs": []
    },
    {
      "cell_type": "code",
      "source": [
        "# Genetic Algorithm for solving the 8-Puzzle Problem with move tracking\n",
        "def genetic_algorithm(initial_state, population_size=100, generations=1000, mutation_rate=0.1):\n",
        "    population = generate_initial_population(initial_state, population_size)\n",
        "    best_moves = []\n",
        "\n",
        "    for generation in range(generations):\n",
        "        parent1, parent2 = select_parents(population)\n",
        "\n",
        "        # If a solution is found (fitness = 0)\n",
        "        if fitness(parent1) == 0:\n",
        "            return parent1, best_moves, generation\n",
        "\n",
        "        # Generate new population through crossover and mutation\n",
        "        new_population = []\n",
        "        while len(new_population) < population_size:\n",
        "            child1, child2 = crossover(parent1, parent2)\n",
        "            child1 = mutate(child1, mutation_rate)\n",
        "            child2 = mutate(child2, mutation_rate)\n",
        "\n",
        "            # Track neighbors and moves for children\n",
        "            neighbors1, moves1 = get_neighbors(child1)\n",
        "            neighbors2, moves2 = get_neighbors(child2)\n",
        "\n",
        "            # Select one random valid move for each child\n",
        "            chosen_index1 = random.choice(range(len(neighbors1)))\n",
        "            chosen_index2 = random.choice(range(len(neighbors2)))\n",
        "\n",
        "            child1 = neighbors1[chosen_index1]\n",
        "            child2 = neighbors2[chosen_index2]\n",
        "\n",
        "            # Append moves to the move history\n",
        "            best_moves.append(moves1[chosen_index1])\n",
        "            best_moves.append(moves2[chosen_index2])\n",
        "\n",
        "            new_population.append(child1)\n",
        "            new_population.append(child2)\n",
        "\n",
        "        population = new_population\n",
        "\n",
        "    # Return the best solution, the moves made, and the number of generations\n",
        "    best_solution = select_parents(population)[0]\n",
        "    return best_solution, best_moves, generations\n"
      ],
      "metadata": {
        "id": "i6U4FgsWzkbW"
      },
      "execution_count": null,
      "outputs": []
    },
    {
      "cell_type": "code",
      "source": [
        "# Helper function to print the puzzle state\n",
        "def print_puzzle(state):\n",
        "    for row in state:\n",
        "        print(row)\n",
        "    print()\n"
      ],
      "metadata": {
        "id": "vRTm2bwazlwY"
      },
      "execution_count": null,
      "outputs": []
    },
    {
      "cell_type": "code",
      "source": [
        "# Running the Genetic Algorithm with user input\n",
        "initial_state = [\n",
        "    [1, 2, 3],\n",
        "    [4, 5, 0],\n",
        "    [7, 8, 6]\n",
        "]"
      ],
      "metadata": {
        "id": "scdp34jWzo8G"
      },
      "execution_count": null,
      "outputs": []
    },
    {
      "cell_type": "code",
      "source": [
        "population_size = 100\n",
        "generations = 1000\n",
        "\n",
        "solution, moves, gen = genetic_algorithm(initial_state, population_size=population_size, generations=generations)\n",
        "\n",
        "print(f\"Solution found in {gen} generations:\")\n",
        "print_puzzle(solution)"
      ],
      "metadata": {
        "colab": {
          "base_uri": "https://localhost:8080/"
        },
        "id": "SgB-D1NQztWh",
        "outputId": "cf8e8589-40df-4c9a-d354-2fed1c1a9df3"
      },
      "execution_count": null,
      "outputs": [
        {
          "output_type": "stream",
          "name": "stdout",
          "text": [
            "Solution found in 1 generations:\n",
            "[1, 2, 3]\n",
            "[4, 5, 6]\n",
            "[7, 8, 0]\n",
            "\n"
          ]
        }
      ]
    },
    {
      "cell_type": "code",
      "source": [
        "print(\"Moves made to reach the solution (by 0 tile):\")\n",
        "print(moves)"
      ],
      "metadata": {
        "colab": {
          "base_uri": "https://localhost:8080/"
        },
        "id": "0YxJrL2Pz0hD",
        "outputId": "b7278907-4b5c-4123-9e38-3634e4f4345a"
      },
      "execution_count": null,
      "outputs": [
        {
          "output_type": "stream",
          "name": "stdout",
          "text": [
            "Moves made to reach the solution (by 0 tile):\n",
            "['Up', 'Down', 'Down', 'Left', 'Down', 'Down', 'Down', 'Down', 'Down', 'Left', 'Up', 'Down', 'Down', 'Left', 'Left', 'Up', 'Down', 'Up', 'Down', 'Up', 'Up', 'Down', 'Right', 'Down', 'Right', 'Down', 'Down', 'Up', 'Right', 'Up', 'Right', 'Left', 'Up', 'Right', 'Left', 'Up', 'Down', 'Left', 'Right', 'Up', 'Right', 'Left', 'Down', 'Down', 'Right', 'Left', 'Right', 'Left', 'Left', 'Right', 'Right', 'Up', 'Down', 'Down', 'Right', 'Left', 'Down', 'Left', 'Right', 'Up', 'Up', 'Right', 'Right', 'Down', 'Left', 'Up', 'Right', 'Up', 'Right', 'Down', 'Down', 'Up', 'Down', 'Left', 'Down', 'Left', 'Down', 'Down', 'Right', 'Up', 'Left', 'Right', 'Right', 'Left', 'Up', 'Down', 'Up', 'Down', 'Down', 'Down', 'Down', 'Right', 'Right', 'Left', 'Left', 'Down', 'Right', 'Down', 'Down', 'Left']\n"
          ]
        }
      ]
    },
    {
      "cell_type": "code",
      "source": [
        "# Printing the number of Steps"
      ],
      "metadata": {
        "id": "9lZeMAg-z4O8"
      },
      "execution_count": null,
      "outputs": []
    },
    {
      "cell_type": "code",
      "source": [
        "print(len(moves))"
      ],
      "metadata": {
        "colab": {
          "base_uri": "https://localhost:8080/"
        },
        "id": "VgnbPzNmz7il",
        "outputId": "483fb5a1-2f45-4f66-bc80-1c27772463f9"
      },
      "execution_count": null,
      "outputs": [
        {
          "output_type": "stream",
          "name": "stdout",
          "text": [
            "100\n"
          ]
        }
      ]
    }
  ]
}